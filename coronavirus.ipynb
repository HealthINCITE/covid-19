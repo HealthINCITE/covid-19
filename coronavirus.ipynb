{
  "nbformat": 4,
  "nbformat_minor": 0,
  "metadata": {
    "colab": {
      "name": "coronavirus.ipynb",
      "provenance": []
    },
    "kernelspec": {
      "name": "python3",
      "display_name": "Python 3"
    }
  },
  "cells": [
    {
      "cell_type": "markdown",
      "metadata": {
        "id": "G0GqCZaUgU0m",
        "colab_type": "text"
      },
      "source": [
        "# Coronavirus Data Modeling\n",
        "\n",
        "\n",
        "### Background\n",
        "From Wikipedia...\n",
        "\n",
        "\"The 2019–20 coronavirus pandemic is an ongoing global pandemic of coronavirus disease 2019 (COVID-19) caused by the severe acute respiratory syndrome coronavirus 2 (SARS-CoV-2). The virus was first reported in Wuhan, Hubei, China, in December 2019.[5][6] On March 11, 2020, the World Health Organization declared the outbreak a pandemic.[7] As of March 12, 2020, over 134,000 cases have been confirmed in more than 120 countries and territories, with major outbreaks in mainland China, Italy, South Korea, and Iran.[3] Around 5,000 people, with about 3200 from China, have died from the disease. More than 69,000 have recovered.[4]\n",
        "\n",
        "The virus spreads between people in a way similar to influenza, via respiratory droplets from coughing.[8][9][10] The time between exposure and symptom onset is typically five days, but may range from two to fourteen days.[10][11] Symptoms are most often fever, cough, and shortness of breath.[10][11] Complications may include pneumonia and acute respiratory distress syndrome. There is currently no vaccine or specific antiviral treatment, but research is ongoing. Efforts are aimed at managing symptoms and supportive therapy. Recommended preventive measures include handwashing, maintaining distance from other people (particularly those who are sick), and monitoring and self-isolation for fourteen days for people who suspect they are infected.[9][10][12]\n",
        "\n",
        "Public health responses around the world have included travel restrictions, quarantines, curfews, event cancellations, and school closures. They have included the quarantine of all of Italy and the Chinese province of Hubei; various curfew measures in China and South Korea;[13][14][15] screening methods at airports and train stations;[16] and travel advisories regarding regions with community transmission.[17][18][19][20] Schools have closed nationwide in 22 countries or locally in 17 countries, affecting more than 370 million students.[21]\"\n",
        "\n",
        "https://en.wikipedia.org/wiki/2019–20_coronavirus_pandemic \n",
        "\n",
        "For ADDITIONAL BACKGROUND, see JHU's COVID-19 Resource Center:\n",
        "https://coronavirus.jhu.edu/\n",
        "\n",
        "\n"
      ]
    },
    {
      "cell_type": "markdown",
      "metadata": {
        "id": "MdTKKyVg3p30",
        "colab_type": "text"
      },
      "source": [
        "### Visualizations\n",
        "Bias in Data\n",
        "https://medium.com/@tomaspueyo/coronavirus-act-today-or-people-will-die-f4d3d9cd99ca\n",
        "\n",
        "As INSPIRATION, there is the now-famous JHU CSSE dashboard:\n",
        "https://www.arcgis.com/apps/opsdashboard/index.html#/bda7594740fd40299423467b48e9ecf6\n",
        "\n",
        "https://informationisbeautiful.net/visualizations/covid-19-coronavirus-infographic-datapack/\n",
        "\n",
        "### Python\n",
        "\n",
        "\n",
        "### R\n",
        "A great starting point for data analytics CODING is the work of Tim Churches (thru 10 Mar): \n",
        "* \"COIVD-19 epidemiology with R\"\n",
        "https://rviews.rstudio.com/2020/03/05/covid-19-epidemiology-with-r/\n",
        "* \"Analysing COVID-19 (2019-nCoV) outbreak data with R - part 1\"\n",
        "http://bit.ly/2xvevpT\n",
        "* \"Analysing COVID-19 (2019-nCoV) outbreak data with R - part 2\"\n",
        "http://bit.ly/2Qdii1B\n",
        "* \"Modelling the effects of public health interventions on COVID-19 transmission using R - part 1\"\n",
        "http://bit.ly/2TXlBv2\n",
        "\n",
        "Tim's posts serve as tutorials on the use of several epidemiological R PACKAGES from the R Epidemics Consortium:\n",
        "https://www.repidemicsconsortium.org/projects/\n",
        "\n",
        "### DATASETS\n",
        "* The \"mother load\" is JHU CSSE's curated repository, updated with global data multiple times daily; forms the basis for the JHU CSSE dashboard: \n",
        "https://github.com/CSSEGISandData/COVID-19/tree/master/csse_covid_19_data\n",
        "\n",
        "* Eric Brown is curating a global outbreak dataset extracted from WHO situation reports on github, formatted as an R package for easy installation; data is available as an Rda file:\n",
        "https://github.com/eebrown/data2019nCoV\n",
        "\n",
        "* Kaggle Novel Corona Virus 2019 Dataset: Day level information on covid-19 affected cases\n",
        "https://www.kaggle.com/sudalairajkumar/novel-corona-virus-2019-dataset\n",
        "\n",
        "Finally, as motivation, see these various CHALLENGES and CfPs:\n",
        "* March 2020 R Consortium ISC CfP:\n",
        "https://www.r-consortium.org/blog/2020/03/11/march-2020-isc-call-for-proposals\n",
        "\n",
        "* NSF 20-052: Dear Colleague Letter on the Coronavirus Disease 2019 (COVID-19)\n",
        "https://www.nsf.gov/pubs/2020/nsf20052/nsf20052.jsp?org=NSF\n",
        "\n",
        "* Kaggle \n",
        "https://www.kaggle.com/sudalairajkumar/novel-corona-virus-2019-dataset\n",
        "\n",
        "(Thanks to John Erikson for putting together R/Dataset resources)"
      ]
    },
    {
      "cell_type": "markdown",
      "metadata": {
        "id": "UcaIIEhM37wq",
        "colab_type": "text"
      },
      "source": [
        "### The Assignment\n",
        "\n",
        "Our lives have been seriously disrupted by the coronavirus pandemic, and there is every indication that this is going to be a global event which requires colloration in a global community to solve.  Studying the data provides an opportunity to connect the pandemic to the variety of themes from the class. \n",
        "\n",
        "A number of folks have already been examining this data. \n",
        "https://ourworldindata.org/coronavirus-source-data\n"
      ]
    },
    {
      "cell_type": "code",
      "metadata": {
        "id": "kF7kIsBGwYr6",
        "colab_type": "code",
        "colab": {}
      },
      "source": [
        ""
      ],
      "execution_count": 0,
      "outputs": []
    },
    {
      "cell_type": "markdown",
      "metadata": {
        "id": "aW0QfpmtwZku",
        "colab_type": "text"
      },
      "source": [
        "1. Discussion.  What is the role of open data?  Why is it important in this case?"
      ]
    },
    {
      "cell_type": "code",
      "metadata": {
        "id": "OBaEUyBHgUGA",
        "colab_type": "code",
        "colab": {}
      },
      "source": [
        "###Answer here.\n",
        "q1=\"\"\"\n",
        "\n",
        "\"\"\""
      ],
      "execution_count": 0,
      "outputs": []
    },
    {
      "cell_type": "markdown",
      "metadata": {
        "id": "n9o21cXswmfn",
        "colab_type": "text"
      },
      "source": [
        "2. What is the role of bias in the data?  Identify 3 different ways that the data could be biased.  "
      ]
    },
    {
      "cell_type": "code",
      "metadata": {
        "id": "hTNlwVgewkin",
        "colab_type": "code",
        "colab": {}
      },
      "source": [
        "###Answer here. \n",
        "q2=\"\"\"\n",
        "\n",
        "\"\"\""
      ],
      "execution_count": 0,
      "outputs": []
    },
    {
      "cell_type": "code",
      "metadata": {
        "id": "pe1YW4nMvxAC",
        "colab_type": "code",
        "outputId": "d0283113-b181-4504-e17b-a778f68e47f4",
        "colab": {
          "base_uri": "https://localhost:8080/",
          "height": 419
        }
      },
      "source": [
        "#Load some data\n",
        "import pandas as pd\n",
        "df=pd.read_csv('http://cowid.netlify.com/data/full_data.csv')\n",
        "df"
      ],
      "execution_count": 0,
      "outputs": [
        {
          "output_type": "execute_result",
          "data": {
            "text/html": [
              "<div>\n",
              "<style scoped>\n",
              "    .dataframe tbody tr th:only-of-type {\n",
              "        vertical-align: middle;\n",
              "    }\n",
              "\n",
              "    .dataframe tbody tr th {\n",
              "        vertical-align: top;\n",
              "    }\n",
              "\n",
              "    .dataframe thead th {\n",
              "        text-align: right;\n",
              "    }\n",
              "</style>\n",
              "<table border=\"1\" class=\"dataframe\">\n",
              "  <thead>\n",
              "    <tr style=\"text-align: right;\">\n",
              "      <th></th>\n",
              "      <th>date</th>\n",
              "      <th>location</th>\n",
              "      <th>new_cases</th>\n",
              "      <th>new_deaths</th>\n",
              "      <th>total_cases</th>\n",
              "      <th>total_deaths</th>\n",
              "    </tr>\n",
              "  </thead>\n",
              "  <tbody>\n",
              "    <tr>\n",
              "      <th>0</th>\n",
              "      <td>2020-02-25</td>\n",
              "      <td>Afghanistan</td>\n",
              "      <td>NaN</td>\n",
              "      <td>NaN</td>\n",
              "      <td>1</td>\n",
              "      <td>NaN</td>\n",
              "    </tr>\n",
              "    <tr>\n",
              "      <th>1</th>\n",
              "      <td>2020-02-26</td>\n",
              "      <td>Afghanistan</td>\n",
              "      <td>0.0</td>\n",
              "      <td>NaN</td>\n",
              "      <td>1</td>\n",
              "      <td>NaN</td>\n",
              "    </tr>\n",
              "    <tr>\n",
              "      <th>2</th>\n",
              "      <td>2020-02-27</td>\n",
              "      <td>Afghanistan</td>\n",
              "      <td>0.0</td>\n",
              "      <td>NaN</td>\n",
              "      <td>1</td>\n",
              "      <td>NaN</td>\n",
              "    </tr>\n",
              "    <tr>\n",
              "      <th>3</th>\n",
              "      <td>2020-02-28</td>\n",
              "      <td>Afghanistan</td>\n",
              "      <td>0.0</td>\n",
              "      <td>NaN</td>\n",
              "      <td>1</td>\n",
              "      <td>NaN</td>\n",
              "    </tr>\n",
              "    <tr>\n",
              "      <th>4</th>\n",
              "      <td>2020-02-29</td>\n",
              "      <td>Afghanistan</td>\n",
              "      <td>0.0</td>\n",
              "      <td>NaN</td>\n",
              "      <td>1</td>\n",
              "      <td>NaN</td>\n",
              "    </tr>\n",
              "    <tr>\n",
              "      <th>...</th>\n",
              "      <td>...</td>\n",
              "      <td>...</td>\n",
              "      <td>...</td>\n",
              "      <td>...</td>\n",
              "      <td>...</td>\n",
              "      <td>...</td>\n",
              "    </tr>\n",
              "    <tr>\n",
              "      <th>2140</th>\n",
              "      <td>2020-03-08</td>\n",
              "      <td>Worldwide</td>\n",
              "      <td>3644.0</td>\n",
              "      <td>96.0</td>\n",
              "      <td>105592</td>\n",
              "      <td>3584.0</td>\n",
              "    </tr>\n",
              "    <tr>\n",
              "      <th>2141</th>\n",
              "      <td>2020-03-09</td>\n",
              "      <td>Worldwide</td>\n",
              "      <td>3979.0</td>\n",
              "      <td>224.0</td>\n",
              "      <td>109577</td>\n",
              "      <td>3809.0</td>\n",
              "    </tr>\n",
              "    <tr>\n",
              "      <th>2142</th>\n",
              "      <td>2020-03-10</td>\n",
              "      <td>Worldwide</td>\n",
              "      <td>4119.0</td>\n",
              "      <td>201.0</td>\n",
              "      <td>113702</td>\n",
              "      <td>4012.0</td>\n",
              "    </tr>\n",
              "    <tr>\n",
              "      <th>2143</th>\n",
              "      <td>2020-03-11</td>\n",
              "      <td>Worldwide</td>\n",
              "      <td>4611.0</td>\n",
              "      <td>275.0</td>\n",
              "      <td>118319</td>\n",
              "      <td>4292.0</td>\n",
              "    </tr>\n",
              "    <tr>\n",
              "      <th>2144</th>\n",
              "      <td>2020-03-12</td>\n",
              "      <td>Worldwide</td>\n",
              "      <td>6724.0</td>\n",
              "      <td>317.0</td>\n",
              "      <td>125048</td>\n",
              "      <td>4613.0</td>\n",
              "    </tr>\n",
              "  </tbody>\n",
              "</table>\n",
              "<p>2145 rows × 6 columns</p>\n",
              "</div>"
            ],
            "text/plain": [
              "            date     location  new_cases  new_deaths  total_cases  total_deaths\n",
              "0     2020-02-25  Afghanistan        NaN         NaN            1           NaN\n",
              "1     2020-02-26  Afghanistan        0.0         NaN            1           NaN\n",
              "2     2020-02-27  Afghanistan        0.0         NaN            1           NaN\n",
              "3     2020-02-28  Afghanistan        0.0         NaN            1           NaN\n",
              "4     2020-02-29  Afghanistan        0.0         NaN            1           NaN\n",
              "...          ...          ...        ...         ...          ...           ...\n",
              "2140  2020-03-08    Worldwide     3644.0        96.0       105592        3584.0\n",
              "2141  2020-03-09    Worldwide     3979.0       224.0       109577        3809.0\n",
              "2142  2020-03-10    Worldwide     4119.0       201.0       113702        4012.0\n",
              "2143  2020-03-11    Worldwide     4611.0       275.0       118319        4292.0\n",
              "2144  2020-03-12    Worldwide     6724.0       317.0       125048        4613.0\n",
              "\n",
              "[2145 rows x 6 columns]"
            ]
          },
          "metadata": {
            "tags": []
          },
          "execution_count": 3
        }
      ]
    },
    {
      "cell_type": "markdown",
      "metadata": {
        "id": "tTqTY-pMxvn1",
        "colab_type": "text"
      },
      "source": [
        "### Preprocessing\n",
        "We have to deal with missing values first.\n",
        "\n",
        "First let's check the missing values for each column. "
      ]
    },
    {
      "cell_type": "code",
      "metadata": {
        "id": "km0OOvMpxtEu",
        "colab_type": "code",
        "outputId": "ddba7682-e8b9-4648-e84c-9690e7030ea7",
        "colab": {
          "base_uri": "https://localhost:8080/",
          "height": 136
        }
      },
      "source": [
        "df.isnull().sum() "
      ],
      "execution_count": 0,
      "outputs": [
        {
          "output_type": "execute_result",
          "data": {
            "text/plain": [
              "date               0\n",
              "location           0\n",
              "new_cases        119\n",
              "new_deaths      1793\n",
              "total_cases        0\n",
              "total_deaths    1764\n",
              "dtype: int64"
            ]
          },
          "metadata": {
            "tags": []
          },
          "execution_count": 4
        }
      ]
    },
    {
      "cell_type": "code",
      "metadata": {
        "id": "EwbSmCI2ycsd",
        "colab_type": "code",
        "colab": {}
      },
      "source": [
        "Rather than filling NAs as "
      ],
      "execution_count": 0,
      "outputs": []
    },
    {
      "cell_type": "markdown",
      "metadata": {
        "id": "wGKpxOdoyeDH",
        "colab_type": "text"
      },
      "source": [
        "Rather than filling NAs as 0s, let's be a little more conservative and drop NAs. "
      ]
    },
    {
      "cell_type": "code",
      "metadata": {
        "id": "OYf7ZJJDySyk",
        "colab_type": "code",
        "colab": {}
      },
      "source": [
        "df.dropna(inplace=True)"
      ],
      "execution_count": 0,
      "outputs": []
    },
    {
      "cell_type": "code",
      "metadata": {
        "id": "HmMp5owCwPrt",
        "colab_type": "code",
        "outputId": "b5ebd73f-279a-47fa-fbcb-6c4974859f4d",
        "colab": {
          "base_uri": "https://localhost:8080/",
          "height": 136
        }
      },
      "source": [
        "df.isnull().sum() "
      ],
      "execution_count": 0,
      "outputs": [
        {
          "output_type": "execute_result",
          "data": {
            "text/plain": [
              "date            0\n",
              "location        0\n",
              "new_cases       0\n",
              "new_deaths      0\n",
              "total_cases     0\n",
              "total_deaths    0\n",
              "dtype: int64"
            ]
          },
          "metadata": {
            "tags": []
          },
          "execution_count": 6
        }
      ]
    },
    {
      "cell_type": "code",
      "metadata": {
        "id": "gFGDcXYqzRiA",
        "colab_type": "code",
        "outputId": "88af55c9-40d4-4606-c56a-fcb08c146e56",
        "colab": {
          "base_uri": "https://localhost:8080/",
          "height": 119
        }
      },
      "source": [
        "df['location'].unique()"
      ],
      "execution_count": 0,
      "outputs": [
        {
          "output_type": "execute_result",
          "data": {
            "text/plain": [
              "array(['Argentina', 'Australia', 'Canada', 'China', 'Egypt', 'France',\n",
              "       'Germany', 'Indonesia', 'International', 'Iran', 'Iraq', 'Italy',\n",
              "       'Japan', 'Lebanon', 'Morocco', 'Netherlands', 'Panama',\n",
              "       'Philippines', 'South Korea', 'San Marino', 'Spain', 'Switzerland',\n",
              "       'Thailand', 'United Kingdom', 'United States', 'Worldwide'],\n",
              "      dtype=object)"
            ]
          },
          "metadata": {
            "tags": []
          },
          "execution_count": 8
        }
      ]
    },
    {
      "cell_type": "code",
      "metadata": {
        "id": "XqFkLTJmzg9v",
        "colab_type": "code",
        "outputId": "46d7828c-4b80-413f-b44f-8039dcbd1dba",
        "colab": {
          "base_uri": "https://localhost:8080/",
          "height": 255
        }
      },
      "source": [
        "df['date'].unique()"
      ],
      "execution_count": 0,
      "outputs": [
        {
          "output_type": "execute_result",
          "data": {
            "text/plain": [
              "array(['2020-03-09', '2020-03-10', '2020-03-11', '2020-03-12',\n",
              "       '2020-03-03', '2020-03-04', '2020-03-05', '2020-03-06',\n",
              "       '2020-03-07', '2020-03-08', '2020-01-22', '2020-01-23',\n",
              "       '2020-01-24', '2020-01-25', '2020-01-26', '2020-01-27',\n",
              "       '2020-01-28', '2020-01-29', '2020-01-30', '2020-01-31',\n",
              "       '2020-02-01', '2020-02-02', '2020-02-03', '2020-02-04',\n",
              "       '2020-02-05', '2020-02-06', '2020-02-07', '2020-02-08',\n",
              "       '2020-02-09', '2020-02-10', '2020-02-11', '2020-02-12',\n",
              "       '2020-02-13', '2020-02-14', '2020-02-15', '2020-02-16',\n",
              "       '2020-02-17', '2020-02-18', '2020-02-19', '2020-02-20',\n",
              "       '2020-02-21', '2020-02-22', '2020-02-23', '2020-02-24',\n",
              "       '2020-02-25', '2020-02-26', '2020-02-27', '2020-02-28',\n",
              "       '2020-02-29', '2020-03-01', '2020-03-02', '2020-01-21'],\n",
              "      dtype=object)"
            ]
          },
          "metadata": {
            "tags": []
          },
          "execution_count": 9
        }
      ]
    },
    {
      "cell_type": "code",
      "metadata": {
        "id": "z_WifAXEzrbT",
        "colab_type": "code",
        "outputId": "e969ccef-a713-4caa-e391-b0f4f2385915",
        "colab": {
          "base_uri": "https://localhost:8080/",
          "height": 886
        }
      },
      "source": [
        "pd.pivot_table(df, index='location', values=['new_cases', 'new_deaths', 'total_cases', 'total_deaths'], aggfunc = 'max').sort_values('total_deaths', ascending=False)"
      ],
      "execution_count": 0,
      "outputs": [
        {
          "output_type": "execute_result",
          "data": {
            "text/html": [
              "<div>\n",
              "<style scoped>\n",
              "    .dataframe tbody tr th:only-of-type {\n",
              "        vertical-align: middle;\n",
              "    }\n",
              "\n",
              "    .dataframe tbody tr th {\n",
              "        vertical-align: top;\n",
              "    }\n",
              "\n",
              "    .dataframe thead th {\n",
              "        text-align: right;\n",
              "    }\n",
              "</style>\n",
              "<table border=\"1\" class=\"dataframe\">\n",
              "  <thead>\n",
              "    <tr style=\"text-align: right;\">\n",
              "      <th></th>\n",
              "      <th>new_cases</th>\n",
              "      <th>new_deaths</th>\n",
              "      <th>total_cases</th>\n",
              "      <th>total_deaths</th>\n",
              "    </tr>\n",
              "    <tr>\n",
              "      <th>location</th>\n",
              "      <th></th>\n",
              "      <th></th>\n",
              "      <th></th>\n",
              "      <th></th>\n",
              "    </tr>\n",
              "  </thead>\n",
              "  <tbody>\n",
              "    <tr>\n",
              "      <th>Worldwide</th>\n",
              "      <td>19572.0</td>\n",
              "      <td>317.0</td>\n",
              "      <td>125048</td>\n",
              "      <td>4613.0</td>\n",
              "    </tr>\n",
              "    <tr>\n",
              "      <th>China</th>\n",
              "      <td>19461.0</td>\n",
              "      <td>254.0</td>\n",
              "      <td>80981</td>\n",
              "      <td>3173.0</td>\n",
              "    </tr>\n",
              "    <tr>\n",
              "      <th>Italy</th>\n",
              "      <td>2313.0</td>\n",
              "      <td>196.0</td>\n",
              "      <td>12462</td>\n",
              "      <td>827.0</td>\n",
              "    </tr>\n",
              "    <tr>\n",
              "      <th>Iran</th>\n",
              "      <td>1234.0</td>\n",
              "      <td>63.0</td>\n",
              "      <td>9000</td>\n",
              "      <td>354.0</td>\n",
              "    </tr>\n",
              "    <tr>\n",
              "      <th>South Korea</th>\n",
              "      <td>813.0</td>\n",
              "      <td>7.0</td>\n",
              "      <td>7869</td>\n",
              "      <td>66.0</td>\n",
              "    </tr>\n",
              "    <tr>\n",
              "      <th>France</th>\n",
              "      <td>495.0</td>\n",
              "      <td>15.0</td>\n",
              "      <td>2269</td>\n",
              "      <td>48.0</td>\n",
              "    </tr>\n",
              "    <tr>\n",
              "      <th>Spain</th>\n",
              "      <td>615.0</td>\n",
              "      <td>18.0</td>\n",
              "      <td>2140</td>\n",
              "      <td>48.0</td>\n",
              "    </tr>\n",
              "    <tr>\n",
              "      <th>United States</th>\n",
              "      <td>291.0</td>\n",
              "      <td>8.0</td>\n",
              "      <td>987</td>\n",
              "      <td>29.0</td>\n",
              "    </tr>\n",
              "    <tr>\n",
              "      <th>Japan</th>\n",
              "      <td>59.0</td>\n",
              "      <td>3.0</td>\n",
              "      <td>620</td>\n",
              "      <td>15.0</td>\n",
              "    </tr>\n",
              "    <tr>\n",
              "      <th>International</th>\n",
              "      <td>61.0</td>\n",
              "      <td>2.0</td>\n",
              "      <td>706</td>\n",
              "      <td>7.0</td>\n",
              "    </tr>\n",
              "    <tr>\n",
              "      <th>Iraq</th>\n",
              "      <td>10.0</td>\n",
              "      <td>2.0</td>\n",
              "      <td>70</td>\n",
              "      <td>7.0</td>\n",
              "    </tr>\n",
              "    <tr>\n",
              "      <th>United Kingdom</th>\n",
              "      <td>87.0</td>\n",
              "      <td>3.0</td>\n",
              "      <td>460</td>\n",
              "      <td>6.0</td>\n",
              "    </tr>\n",
              "    <tr>\n",
              "      <th>Netherlands</th>\n",
              "      <td>121.0</td>\n",
              "      <td>2.0</td>\n",
              "      <td>503</td>\n",
              "      <td>5.0</td>\n",
              "    </tr>\n",
              "    <tr>\n",
              "      <th>Switzerland</th>\n",
              "      <td>159.0</td>\n",
              "      <td>1.0</td>\n",
              "      <td>645</td>\n",
              "      <td>4.0</td>\n",
              "    </tr>\n",
              "    <tr>\n",
              "      <th>Lebanon</th>\n",
              "      <td>25.0</td>\n",
              "      <td>2.0</td>\n",
              "      <td>66</td>\n",
              "      <td>3.0</td>\n",
              "    </tr>\n",
              "    <tr>\n",
              "      <th>Australia</th>\n",
              "      <td>20.0</td>\n",
              "      <td>1.0</td>\n",
              "      <td>122</td>\n",
              "      <td>3.0</td>\n",
              "    </tr>\n",
              "    <tr>\n",
              "      <th>Germany</th>\n",
              "      <td>271.0</td>\n",
              "      <td>1.0</td>\n",
              "      <td>1567</td>\n",
              "      <td>3.0</td>\n",
              "    </tr>\n",
              "    <tr>\n",
              "      <th>Philippines</th>\n",
              "      <td>23.0</td>\n",
              "      <td>1.0</td>\n",
              "      <td>52</td>\n",
              "      <td>2.0</td>\n",
              "    </tr>\n",
              "    <tr>\n",
              "      <th>San Marino</th>\n",
              "      <td>14.0</td>\n",
              "      <td>1.0</td>\n",
              "      <td>63</td>\n",
              "      <td>2.0</td>\n",
              "    </tr>\n",
              "    <tr>\n",
              "      <th>Morocco</th>\n",
              "      <td>2.0</td>\n",
              "      <td>0.0</td>\n",
              "      <td>5</td>\n",
              "      <td>1.0</td>\n",
              "    </tr>\n",
              "    <tr>\n",
              "      <th>Panama</th>\n",
              "      <td>2.0</td>\n",
              "      <td>0.0</td>\n",
              "      <td>10</td>\n",
              "      <td>1.0</td>\n",
              "    </tr>\n",
              "    <tr>\n",
              "      <th>Indonesia</th>\n",
              "      <td>7.0</td>\n",
              "      <td>0.0</td>\n",
              "      <td>34</td>\n",
              "      <td>1.0</td>\n",
              "    </tr>\n",
              "    <tr>\n",
              "      <th>Thailand</th>\n",
              "      <td>11.0</td>\n",
              "      <td>0.0</td>\n",
              "      <td>70</td>\n",
              "      <td>1.0</td>\n",
              "    </tr>\n",
              "    <tr>\n",
              "      <th>Egypt</th>\n",
              "      <td>8.0</td>\n",
              "      <td>0.0</td>\n",
              "      <td>67</td>\n",
              "      <td>1.0</td>\n",
              "    </tr>\n",
              "    <tr>\n",
              "      <th>Canada</th>\n",
              "      <td>0.0</td>\n",
              "      <td>0.0</td>\n",
              "      <td>93</td>\n",
              "      <td>1.0</td>\n",
              "    </tr>\n",
              "    <tr>\n",
              "      <th>Argentina</th>\n",
              "      <td>5.0</td>\n",
              "      <td>0.0</td>\n",
              "      <td>19</td>\n",
              "      <td>1.0</td>\n",
              "    </tr>\n",
              "  </tbody>\n",
              "</table>\n",
              "</div>"
            ],
            "text/plain": [
              "                new_cases  new_deaths  total_cases  total_deaths\n",
              "location                                                        \n",
              "Worldwide         19572.0       317.0       125048        4613.0\n",
              "China             19461.0       254.0        80981        3173.0\n",
              "Italy              2313.0       196.0        12462         827.0\n",
              "Iran               1234.0        63.0         9000         354.0\n",
              "South Korea         813.0         7.0         7869          66.0\n",
              "France              495.0        15.0         2269          48.0\n",
              "Spain               615.0        18.0         2140          48.0\n",
              "United States       291.0         8.0          987          29.0\n",
              "Japan                59.0         3.0          620          15.0\n",
              "International        61.0         2.0          706           7.0\n",
              "Iraq                 10.0         2.0           70           7.0\n",
              "United Kingdom       87.0         3.0          460           6.0\n",
              "Netherlands         121.0         2.0          503           5.0\n",
              "Switzerland         159.0         1.0          645           4.0\n",
              "Lebanon              25.0         2.0           66           3.0\n",
              "Australia            20.0         1.0          122           3.0\n",
              "Germany             271.0         1.0         1567           3.0\n",
              "Philippines          23.0         1.0           52           2.0\n",
              "San Marino           14.0         1.0           63           2.0\n",
              "Morocco               2.0         0.0            5           1.0\n",
              "Panama                2.0         0.0           10           1.0\n",
              "Indonesia             7.0         0.0           34           1.0\n",
              "Thailand             11.0         0.0           70           1.0\n",
              "Egypt                 8.0         0.0           67           1.0\n",
              "Canada                0.0         0.0           93           1.0\n",
              "Argentina             5.0         0.0           19           1.0"
            ]
          },
          "metadata": {
            "tags": []
          },
          "execution_count": 15
        }
      ]
    },
    {
      "cell_type": "code",
      "metadata": {
        "id": "u3qSusWR09dX",
        "colab_type": "code",
        "colab": {}
      },
      "source": [
        "pd.DataFrame.sort_values()"
      ],
      "execution_count": 0,
      "outputs": []
    }
  ]
}